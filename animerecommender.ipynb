{
 "cells": [
  {
   "cell_type": "code",
   "execution_count": 2,
   "id": "dd206149",
   "metadata": {},
   "outputs": [
    {
     "name": "stdout",
     "output_type": "stream",
     "text": [
      "<class 'pandas.core.frame.DataFrame'>\n",
      "Int64Index: 11471 entries, 0 to 12285\n",
      "Data columns (total 7 columns):\n",
      " #   Column    Non-Null Count  Dtype  \n",
      "---  ------    --------------  -----  \n",
      " 0   anime_id  11471 non-null  int64  \n",
      " 1   name      11471 non-null  object \n",
      " 2   genre     11409 non-null  object \n",
      " 3   type      11446 non-null  object \n",
      " 4   episodes  11471 non-null  object \n",
      " 5   rating    11248 non-null  float64\n",
      " 6   members   11471 non-null  int64  \n",
      "dtypes: float64(1), int64(2), object(4)\n",
      "memory usage: 716.9+ KB\n",
      "Enter the anime you like and we will find more like those for you  :Hyouka\n",
      "Please enter the number of recommendations you want:4\n",
      "The anime recommended for you are :\n",
      "1 .  tantei team kz jiken note\n",
      "2 .  haruchika: haruta to chika wa seishun suru\n",
      "3 .  relife\n",
      "4 .  nichijou\n"
     ]
    }
   ],
   "source": [
    "import numpy as np\n",
    "import pandas as pd\n",
    "import matplotlib.pyplot as plt\n",
    "import seaborn as sns\n",
    "from sklearn.cluster import KMeans\n",
    "from scipy.spatial import distance\n",
    "data=pd.read_csv('anime.csv')\n",
    "data=data[data['genre']!='Hentai']\n",
    "data.head()\n",
    "genre=data['genre'].values\n",
    "data.info()\n",
    "lis=[]\n",
    "for i in genre:\n",
    "    i=str(i)\n",
    "    for p in i.split(','):\n",
    "        if p not in lis:\n",
    "            lis.append(p)\n",
    "len(lis)\n",
    "dic={}\n",
    "t=[]\n",
    "for i in genre:\n",
    "    for j in lis:\n",
    "        dic[j]=0\n",
    "    i=str(i)\n",
    "    for p in i.split(','):\n",
    "        dic[p]+=1\n",
    "    t.append(list(dic.values()))\n",
    "        \n",
    "len(t[0])\n",
    "X=np.array(t)\n",
    "s=input('Enter the anime you like and we will find more like those for you  :')\n",
    "num=int(input('Please enter the number of recommendations you want:'))\n",
    "name=data['name'].values\n",
    "for i in range(len(name)):\n",
    "    name[i]=name[i].lower()\n",
    "s=s.lower()\n",
    "h=-1\n",
    "for i in range(len(name)):\n",
    "    if s in name[i]:\n",
    "        h=i\n",
    "        break\n",
    "imp=[]\n",
    "if h==-1:\n",
    "    print('Sorry No match found :(')\n",
    "else:\n",
    "    for i in range(len(t)):\n",
    "        if i==h:\n",
    "            continue\n",
    "        else:\n",
    "            if len(imp)<num:\n",
    "                imp.append([distance.euclidean(t[i], t[h]),t[i],i])\n",
    "            else:\n",
    "                imp.sort()\n",
    "                if imp[num-1][0]>distance.euclidean(t[i],t[h]):\n",
    "                    del imp[num-1]\n",
    "                    imp.append([distance.euclidean(t[i],t[h]),t[i],i])\n",
    "    name=data['name'].values\n",
    "    print('The anime recommended for you are :')\n",
    "    count=0\n",
    "    for i in imp:\n",
    "        count+=1\n",
    "        print(count,'. ',name[i[2]])\n",
    "    "
   ]
  },
  {
   "cell_type": "code",
   "execution_count": null,
   "id": "490a6f65",
   "metadata": {},
   "outputs": [],
   "source": []
  },
  {
   "cell_type": "code",
   "execution_count": null,
   "id": "4c3e9fba",
   "metadata": {},
   "outputs": [],
   "source": []
  },
  {
   "cell_type": "code",
   "execution_count": null,
   "id": "ebe3ddb7",
   "metadata": {},
   "outputs": [],
   "source": []
  }
 ],
 "metadata": {
  "kernelspec": {
   "display_name": "Python 3 (ipykernel)",
   "language": "python",
   "name": "python3"
  },
  "language_info": {
   "codemirror_mode": {
    "name": "ipython",
    "version": 3
   },
   "file_extension": ".py",
   "mimetype": "text/x-python",
   "name": "python",
   "nbconvert_exporter": "python",
   "pygments_lexer": "ipython3",
   "version": "3.9.7"
  }
 },
 "nbformat": 4,
 "nbformat_minor": 5
}
